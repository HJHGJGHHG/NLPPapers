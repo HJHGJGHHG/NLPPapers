{
 "cells": [
  {
   "cell_type": "code",
   "execution_count": 1,
   "metadata": {
    "collapsed": true,
    "pycharm": {
     "name": "#%%\n"
    }
   },
   "outputs": [],
   "source": [
    "import torch\n",
    "import torch.nn as nn\n",
    "from torch.autograd import Variable\n",
    "import numpy as np\n",
    "text = [\n",
    "    \"I love your cooking\",\n",
    "    'Yes',\n",
    "    'I love you',\n",
    "    'No way',\n",
    "]\n",
    "\n",
    "max_length = 5\n",
    "word2id = {'pad':0}\n",
    "text_id = []\n",
    "lengths = []\n",
    "\n",
    "for i in range(len(text)):\n",
    "    words = text[i].split(' ')\n",
    "    id = []\n",
    "    for word in words:\n",
    "        if word not in word2id:\n",
    "            word2id[word] = len(word2id)\n",
    "            id.append(word2id[word])\n",
    "        else:\n",
    "            id.append(word2id[word])\n",
    "    lengths.append(len(words))\n",
    "    id.extend([word2id['pad']]*(max_length-len(words)))\n",
    "    text_id.append(id)\n",
    "x = torch.LongTensor(text_id)"
   ]
  },
  {
   "cell_type": "code",
   "execution_count": 2,
   "outputs": [],
   "source": [
    "lengths = torch.LongTensor(lengths)\n",
    "_, idx_sort = torch.sort(lengths, dim=0, descending=True)\n",
    "_, idx_unsort = torch.sort(idx_sort, dim=0)"
   ],
   "metadata": {
    "collapsed": false,
    "pycharm": {
     "name": "#%%\n"
    }
   }
  },
  {
   "cell_type": "code",
   "execution_count": 3,
   "outputs": [],
   "source": [
    "x = x.index_select(0, idx_sort)\n",
    "lengths = list(lengths[idx_sort])\n",
    "x_packed = nn.utils.rnn.pack_padded_sequence(input=x, lengths=lengths, batch_first=True)"
   ],
   "metadata": {
    "collapsed": false,
    "pycharm": {
     "name": "#%%\n"
    }
   }
  },
  {
   "cell_type": "code",
   "execution_count": 7,
   "outputs": [],
   "source": [
    "x_padded = nn.utils.rnn.pad_packed_sequence(x_packed, batch_first=True)\n",
    "output = x_padded[0].index_select(0, idx_unsort)"
   ],
   "metadata": {
    "collapsed": false,
    "pycharm": {
     "name": "#%%\n"
    }
   }
  }
 ],
 "metadata": {
  "kernelspec": {
   "display_name": "Python 3",
   "language": "python",
   "name": "python3"
  },
  "language_info": {
   "codemirror_mode": {
    "name": "ipython",
    "version": 2
   },
   "file_extension": ".py",
   "mimetype": "text/x-python",
   "name": "python",
   "nbconvert_exporter": "python",
   "pygments_lexer": "ipython2",
   "version": "2.7.6"
  }
 },
 "nbformat": 4,
 "nbformat_minor": 0
}